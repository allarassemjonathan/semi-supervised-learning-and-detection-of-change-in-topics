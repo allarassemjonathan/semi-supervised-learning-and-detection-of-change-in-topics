{
 "cells": [
  {
   "cell_type": "markdown",
   "id": "560d6d84-92cb-4ae7-8770-656fe8859fed",
   "metadata": {},
   "source": [
    "# Research notebook\n",
    "## Topic modeling of twitter data"
   ]
  },
  {
   "cell_type": "markdown",
   "id": "22007fd5-a3d0-4ef3-bc28-69b65b09dd82",
   "metadata": {},
   "source": [
    "### Importing the libraries necessary for the work"
   ]
  },
  {
   "cell_type": "code",
   "execution_count": 1,
   "id": "09ecc394-3e58-477f-9d76-80f3954d4a13",
   "metadata": {},
   "outputs": [],
   "source": [
    "import pandas as pd\n",
    "import nltk\n",
    "import gensim\n",
    "import re\n",
    "from textblob import TextBlob \n",
    "import sklearn\n",
    "import matplotlib.pyplot as plt\n",
    "from nltk.stem import WordNetLemmatizer\n",
    "from sent2vec.vectorizer import Vectorizer\n",
    "from nltk.corpus import stopwords\n",
    "from sklearn.feature_extraction.text import TfidfVectorizer\n",
    "from sklearn.cluster import KMeans\n",
    "from sentence_transformers import SentenceTransformer\n",
    "from sklearn import svm\n",
    "from sklearn.metrics import confusion_matrix, accuracy_score\n",
    "transformation = SentenceTransformer('all-MiniLM-L6-v2')\n",
    "stp = stopwords.words('english')"
   ]
  },
  {
   "cell_type": "markdown",
   "id": "eec7df62-8c7e-407c-bbbb-48e8e2953419",
   "metadata": {},
   "source": [
    "### Reading the csv files and merging all the tweets in one big frame"
   ]
  },
  {
   "cell_type": "code",
   "execution_count": 2,
   "id": "a7388b5d-b325-4136-9385-692c040f19b2",
   "metadata": {},
   "outputs": [],
   "source": [
    "def read(name, party):\n",
    "    frame = pd.read_excel(f'./data_twitter/tweets_{party}/@{name}_user_tweets.xlsx')\n",
    "    frame = frame[['Screen Name', 'Text']]\n",
    "    frame['Text'] = frame['Text'].apply(lambda x: x if x[0:2]!='RT' else '')\n",
    "    frame = frame[frame['Text']!='']\n",
    "    frame = frame.reset_index(drop=True)\n",
    "    return frame\n",
    "\n",
    "list_politicians_right = ['benshapiro','dineshdsouza','jordanbpeterson','MattWalshBlog', 'michaeljknowles',\n",
    "                         'randpaul','RealCandaceO', 'realdonaldtrump','SenTedCruz', 'gop']\n",
    "\n",
    "list_politicians_left = ['aoc', 'barackobama', 'berniesanders', 'billmaher', 'ggreenwald', 'IlhanMN',\n",
    "                        'joebiden', 'kamalaharris', 'senwarren', 'cnn', 'aliciagarza']\n",
    "\n",
    "frame_r = []\n",
    "frame_l = []\n",
    "\n",
    "# political tweets from the right\n",
    "for name in list_politicians_right:\n",
    "    frame_r.append(read(name, 'right'))\n",
    "\n",
    "# political tweets from the left\n",
    "for name in list_politicians_left:\n",
    "    frame_l.append(read(name, 'left'))"
   ]
  },
  {
   "cell_type": "code",
   "execution_count": 3,
   "id": "3fcd740d-8e69-4bf4-9130-1ee2837079f3",
   "metadata": {},
   "outputs": [],
   "source": [
    "frame_r\n",
    "for frame in frame_r:\n",
    "    frame['party']='right'\n",
    "\n",
    "frame_l\n",
    "for frame in frame_l:\n",
    "    frame['party']='left'\n",
    "\n",
    "# merging all the tweets from the right in one frame\n",
    "frame_l.extend(frame_r)\n",
    "frames = frame_l\n",
    "\n",
    "# merging all the tweets from the right in one frame\n",
    "frame = pd.concat(frames, axis=0)\n",
    "frame.reset_index(inplace=True)\n",
    "frame = frame.drop(columns=['index'])"
   ]
  },
  {
   "cell_type": "markdown",
   "id": "38857da5-101a-4dc3-969c-070099583dbf",
   "metadata": {},
   "source": [
    "### Vizualizing the pandas frame used to work "
   ]
  },
  {
   "cell_type": "code",
   "execution_count": 4,
   "id": "8e28eabc-8df4-4773-b383-865f27a35288",
   "metadata": {},
   "outputs": [
    {
     "data": {
      "text/html": [
       "<div>\n",
       "<style scoped>\n",
       "    .dataframe tbody tr th:only-of-type {\n",
       "        vertical-align: middle;\n",
       "    }\n",
       "\n",
       "    .dataframe tbody tr th {\n",
       "        vertical-align: top;\n",
       "    }\n",
       "\n",
       "    .dataframe thead th {\n",
       "        text-align: right;\n",
       "    }\n",
       "</style>\n",
       "<table border=\"1\" class=\"dataframe\">\n",
       "  <thead>\n",
       "    <tr style=\"text-align: right;\">\n",
       "      <th></th>\n",
       "      <th>Screen Name</th>\n",
       "      <th>Text</th>\n",
       "      <th>party</th>\n",
       "    </tr>\n",
       "  </thead>\n",
       "  <tbody>\n",
       "    <tr>\n",
       "      <th>0</th>\n",
       "      <td>AOC</td>\n",
       "      <td>@Welcome2theBX @KathyHochul Thank you! We are ...</td>\n",
       "      <td>left</td>\n",
       "    </tr>\n",
       "    <tr>\n",
       "      <th>1</th>\n",
       "      <td>AOC</td>\n",
       "      <td>@SimBreezay @thop25 Yes! Keep an eye out for t...</td>\n",
       "      <td>left</td>\n",
       "    </tr>\n",
       "    <tr>\n",
       "      <th>2</th>\n",
       "      <td>AOC</td>\n",
       "      <td>@thop25 The way we are handling it in NYC isn’...</td>\n",
       "      <td>left</td>\n",
       "    </tr>\n",
       "    <tr>\n",
       "      <th>3</th>\n",
       "      <td>AOC</td>\n",
       "      <td>You can read more about it here: https://t.co/...</td>\n",
       "      <td>left</td>\n",
       "    </tr>\n",
       "    <tr>\n",
       "      <th>4</th>\n",
       "      <td>AOC</td>\n",
       "      <td>Did you know that ongoing exposure to NO2 from...</td>\n",
       "      <td>left</td>\n",
       "    </tr>\n",
       "    <tr>\n",
       "      <th>...</th>\n",
       "      <td>...</td>\n",
       "      <td>...</td>\n",
       "      <td>...</td>\n",
       "    </tr>\n",
       "    <tr>\n",
       "      <th>46776</th>\n",
       "      <td>GOP</td>\n",
       "      <td>Latinos are moving in droves to the Republican...</td>\n",
       "      <td>right</td>\n",
       "    </tr>\n",
       "    <tr>\n",
       "      <th>46777</th>\n",
       "      <td>GOP</td>\n",
       "      <td>Republican turnout in Pennsylvania has already...</td>\n",
       "      <td>right</td>\n",
       "    </tr>\n",
       "    <tr>\n",
       "      <th>46778</th>\n",
       "      <td>GOP</td>\n",
       "      <td>Republican @GovernorLittle wins the Republican...</td>\n",
       "      <td>right</td>\n",
       "    </tr>\n",
       "    <tr>\n",
       "      <th>46779</th>\n",
       "      <td>GOP</td>\n",
       "      <td>Cheers to @Castelli4NC on winning North Caroli...</td>\n",
       "      <td>right</td>\n",
       "    </tr>\n",
       "    <tr>\n",
       "      <th>46780</th>\n",
       "      <td>GOP</td>\n",
       "      <td>Big win tonight for Republican @SandySmithNC i...</td>\n",
       "      <td>right</td>\n",
       "    </tr>\n",
       "  </tbody>\n",
       "</table>\n",
       "<p>46781 rows × 3 columns</p>\n",
       "</div>"
      ],
      "text/plain": [
       "      Screen Name                                               Text  party\n",
       "0             AOC  @Welcome2theBX @KathyHochul Thank you! We are ...   left\n",
       "1             AOC  @SimBreezay @thop25 Yes! Keep an eye out for t...   left\n",
       "2             AOC  @thop25 The way we are handling it in NYC isn’...   left\n",
       "3             AOC  You can read more about it here: https://t.co/...   left\n",
       "4             AOC  Did you know that ongoing exposure to NO2 from...   left\n",
       "...           ...                                                ...    ...\n",
       "46776         GOP  Latinos are moving in droves to the Republican...  right\n",
       "46777         GOP  Republican turnout in Pennsylvania has already...  right\n",
       "46778         GOP  Republican @GovernorLittle wins the Republican...  right\n",
       "46779         GOP  Cheers to @Castelli4NC on winning North Caroli...  right\n",
       "46780         GOP  Big win tonight for Republican @SandySmithNC i...  right\n",
       "\n",
       "[46781 rows x 3 columns]"
      ]
     },
     "execution_count": 4,
     "metadata": {},
     "output_type": "execute_result"
    }
   ],
   "source": [
    "frame"
   ]
  },
  {
   "cell_type": "markdown",
   "id": "0b125387-60cc-4445-a709-f4cf9b556b68",
   "metadata": {},
   "source": [
    "### Cleaning the tweets "
   ]
  },
  {
   "cell_type": "code",
   "execution_count": 5,
   "id": "bb57179a-1ce0-4d43-bcad-316d0b0c348b",
   "metadata": {},
   "outputs": [],
   "source": [
    "lemmatizer = WordNetLemmatizer()\n",
    "\n",
    "def clean_stage1(text):\n",
    "     \n",
    "    li =['ð','Ÿ','‡','º','€','™','”','–','n\\'t','¦','$','%','’','“', '!', '\\?', '\\[', '\\]', '‘', '&amp', '—', '-','…', '––']     \n",
    "    numbers = '1234567890'\n",
    "    '''\n",
    "    get things in lower case,\n",
    "    remove a weird character in the data,\n",
    "    remove stuff in parenthesis as well as brackets,\n",
    "    remove stuff after punctuations,\n",
    "    remove weird characters like @ or #,\n",
    "    remove backslach,\n",
    "    remove trailing space,\n",
    "    remove the at in the name,\n",
    "    replace the double space by monospace.\n",
    "    '''\n",
    "    stp = list(stopwords.words('english'))\n",
    "    text = text.lower()\n",
    "    ''' replace weird characters and stop words'''\n",
    "    for el in li:\n",
    "        text = re.sub(el, ' ', text)\n",
    "    ''' replace numbers '''\n",
    "    for n in numbers:\n",
    "        text = re.sub(n, '', text)\n",
    "    text = re.sub(r'https\\S+', '', text)\n",
    "    text = re.sub('@\\S+', '', text)\n",
    "    text = re.sub(r'www\\s+', ' ', text)\n",
    "    text = re.sub('//', ' ', text)\n",
    "    text = re.sub('\\(.*?\\)+|\\(.*', ' ', text)\n",
    "    text = re.sub(',.*|\\-.*', ' ', text)\n",
    "    text = re.sub(r'\\\\.*', ' ', text)\n",
    "    text = re.sub('\\)', ' ', text)\n",
    "    text = re.sub('\\n|-', ' ', text)\n",
    "    text = re.sub('\\s+$', ' ', text)\n",
    "    text = re.sub('^[ \\t]+', ' ', text)\n",
    "    text = re.sub('\\\"', ' ', text)\n",
    "    arr = text.split(' ')\n",
    "    arr_ = []\n",
    "    for i in range(len(arr)):\n",
    "        arr_.append(lemmatizer.lemmatize(arr[i]))\n",
    "    text =' '.join(arr_)\n",
    "    text = re.sub('  ', ' ', text)\n",
    "    return text.strip()"
   ]
  },
  {
   "cell_type": "code",
   "execution_count": 6,
   "id": "5aa1f97e-f0eb-4fb7-aadb-27b8469fa67d",
   "metadata": {},
   "outputs": [],
   "source": [
    "def clean_stage3(text):\n",
    "    text = '' if len(text.split(' '))<4 else text\n",
    "    text = ' '.join([w for w in text.split(' ') if len(w)>=4])\n",
    "    return text\n",
    "\n",
    "frame['Text'] = frame['Text'].apply(lambda x: clean_stage3(x))"
   ]
  },
  {
   "cell_type": "code",
   "execution_count": 7,
   "id": "806a7950-6912-4081-b9e3-cda209398e41",
   "metadata": {},
   "outputs": [],
   "source": [
    "frame['Text'] = frame['Text'].apply(lambda x: clean_stage1(x))\n",
    "frame = frame.loc[frame['Text']!='']\n",
    "frame.reset_index(inplace=True, drop=True)"
   ]
  },
  {
   "cell_type": "code",
   "execution_count": 8,
   "id": "987e77a7-4925-4391-a07b-799d87f9a4ad",
   "metadata": {},
   "outputs": [
    {
     "data": {
      "text/html": [
       "<div>\n",
       "<style scoped>\n",
       "    .dataframe tbody tr th:only-of-type {\n",
       "        vertical-align: middle;\n",
       "    }\n",
       "\n",
       "    .dataframe tbody tr th {\n",
       "        vertical-align: top;\n",
       "    }\n",
       "\n",
       "    .dataframe thead th {\n",
       "        text-align: right;\n",
       "    }\n",
       "</style>\n",
       "<table border=\"1\" class=\"dataframe\">\n",
       "  <thead>\n",
       "    <tr style=\"text-align: right;\">\n",
       "      <th></th>\n",
       "      <th>Screen Name</th>\n",
       "      <th>Text</th>\n",
       "      <th>party</th>\n",
       "    </tr>\n",
       "  </thead>\n",
       "  <tbody>\n",
       "    <tr>\n",
       "      <th>0</th>\n",
       "      <td>AOC</td>\n",
       "      <td>thank you securing similar pedestrian investme...</td>\n",
       "      <td>left</td>\n",
       "    </tr>\n",
       "    <tr>\n",
       "      <th>1</th>\n",
       "      <td>AOC</td>\n",
       "      <td>yes keep credits/rebates gas free appliance th...</td>\n",
       "      <td>left</td>\n",
       "    </tr>\n",
       "    <tr>\n",
       "      <th>2</th>\n",
       "      <td>AOC</td>\n",
       "      <td>handling isn t force people switch what they a...</td>\n",
       "      <td>left</td>\n",
       "    </tr>\n",
       "    <tr>\n",
       "      <th>3</th>\n",
       "      <td>AOC</td>\n",
       "      <td>read more about here:</td>\n",
       "      <td>left</td>\n",
       "    </tr>\n",
       "    <tr>\n",
       "      <th>4</th>\n",
       "      <td>AOC</td>\n",
       "      <td>know that ongoing exposure from stove linked r...</td>\n",
       "      <td>left</td>\n",
       "    </tr>\n",
       "    <tr>\n",
       "      <th>...</th>\n",
       "      <td>...</td>\n",
       "      <td>...</td>\n",
       "      <td>...</td>\n",
       "    </tr>\n",
       "    <tr>\n",
       "      <th>44522</th>\n",
       "      <td>GOP</td>\n",
       "      <td>latino moving drove republican party. this eff...</td>\n",
       "      <td>right</td>\n",
       "    </tr>\n",
       "    <tr>\n",
       "      <th>44523</th>\n",
       "      <td>GOP</td>\n",
       "      <td>republican turnout pennsylvania already outper...</td>\n",
       "      <td>right</td>\n",
       "    </tr>\n",
       "    <tr>\n",
       "      <th>44524</th>\n",
       "      <td>GOP</td>\n",
       "      <td>republican win republican primary idaho conser...</td>\n",
       "      <td>right</td>\n",
       "    </tr>\n",
       "    <tr>\n",
       "      <th>44525</th>\n",
       "      <td>GOP</td>\n",
       "      <td>cheer winning north carolina s congressional p...</td>\n",
       "      <td>right</td>\n",
       "    </tr>\n",
       "    <tr>\n",
       "      <th>44526</th>\n",
       "      <td>GOP</td>\n",
       "      <td>tonight republican nc  let s take back house.</td>\n",
       "      <td>right</td>\n",
       "    </tr>\n",
       "  </tbody>\n",
       "</table>\n",
       "<p>44527 rows × 3 columns</p>\n",
       "</div>"
      ],
      "text/plain": [
       "      Screen Name                                               Text  party\n",
       "0             AOC  thank you securing similar pedestrian investme...   left\n",
       "1             AOC  yes keep credits/rebates gas free appliance th...   left\n",
       "2             AOC  handling isn t force people switch what they a...   left\n",
       "3             AOC                              read more about here:   left\n",
       "4             AOC  know that ongoing exposure from stove linked r...   left\n",
       "...           ...                                                ...    ...\n",
       "44522         GOP  latino moving drove republican party. this eff...  right\n",
       "44523         GOP  republican turnout pennsylvania already outper...  right\n",
       "44524         GOP  republican win republican primary idaho conser...  right\n",
       "44525         GOP  cheer winning north carolina s congressional p...  right\n",
       "44526         GOP      tonight republican nc  let s take back house.  right\n",
       "\n",
       "[44527 rows x 3 columns]"
      ]
     },
     "execution_count": 8,
     "metadata": {},
     "output_type": "execute_result"
    }
   ],
   "source": [
    "frame"
   ]
  },
  {
   "cell_type": "markdown",
   "id": "b80ee089-3edc-454d-add2-a986c34e0875",
   "metadata": {},
   "source": [
    "### Vectorizing the tweets using the sent2vec library"
   ]
  },
  {
   "cell_type": "code",
   "execution_count": 9,
   "id": "5e04cb15-cd1e-4f92-97c0-39ffa20d97a7",
   "metadata": {},
   "outputs": [],
   "source": [
    "vectors = transformation.encode(frame['Text'])"
   ]
  },
  {
   "cell_type": "markdown",
   "id": "473d5139-f742-4f70-ac5c-c53b3a479611",
   "metadata": {},
   "source": [
    "### Running the k mean clustering algorithm to find the topics"
   ]
  },
  {
   "cell_type": "code",
   "execution_count": 10,
   "id": "d0eb153c-cd64-4177-a90c-38d9f911aba0",
   "metadata": {},
   "outputs": [
    {
     "data": {
      "text/plain": [
       "KMeans(max_iter=100000, n_clusters=20)"
      ]
     },
     "execution_count": 10,
     "metadata": {},
     "output_type": "execute_result"
    }
   ],
   "source": [
    "k = 20\n",
    "model = KMeans(n_clusters=k, init='k-means++', max_iter=100000, n_init=10)\n",
    "model.fit(vectors)"
   ]
  },
  {
   "cell_type": "code",
   "execution_count": 11,
   "id": "aa175f63-20e2-4e82-a234-c935fbbd3e26",
   "metadata": {},
   "outputs": [
    {
     "name": "stderr",
     "output_type": "stream",
     "text": [
      "C:\\Users\\BROWDERKD20\\AppData\\Local\\Temp\\ipykernel_1532\\1404149975.py:1: SettingWithCopyWarning: \n",
      "A value is trying to be set on a copy of a slice from a DataFrame.\n",
      "Try using .loc[row_indexer,col_indexer] = value instead\n",
      "\n",
      "See the caveats in the documentation: https://pandas.pydata.org/pandas-docs/stable/user_guide/indexing.html#returning-a-view-versus-a-copy\n",
      "  frame['cluster'] = model.labels_\n"
     ]
    }
   ],
   "source": [
    "frame['cluster'] = model.labels_"
   ]
  },
  {
   "cell_type": "code",
   "execution_count": 12,
   "id": "3f6ac911-ae7e-46b0-9a1f-72d2d8cd0d32",
   "metadata": {},
   "outputs": [
    {
     "data": {
      "text/html": [
       "<div>\n",
       "<style scoped>\n",
       "    .dataframe tbody tr th:only-of-type {\n",
       "        vertical-align: middle;\n",
       "    }\n",
       "\n",
       "    .dataframe tbody tr th {\n",
       "        vertical-align: top;\n",
       "    }\n",
       "\n",
       "    .dataframe thead th {\n",
       "        text-align: right;\n",
       "    }\n",
       "</style>\n",
       "<table border=\"1\" class=\"dataframe\">\n",
       "  <thead>\n",
       "    <tr style=\"text-align: right;\">\n",
       "      <th></th>\n",
       "      <th>Screen Name</th>\n",
       "      <th>Text</th>\n",
       "      <th>party</th>\n",
       "      <th>cluster</th>\n",
       "    </tr>\n",
       "  </thead>\n",
       "  <tbody>\n",
       "    <tr>\n",
       "      <th>0</th>\n",
       "      <td>AOC</td>\n",
       "      <td>thank you securing similar pedestrian investme...</td>\n",
       "      <td>left</td>\n",
       "      <td>12</td>\n",
       "    </tr>\n",
       "    <tr>\n",
       "      <th>1</th>\n",
       "      <td>AOC</td>\n",
       "      <td>yes keep credits/rebates gas free appliance th...</td>\n",
       "      <td>left</td>\n",
       "      <td>11</td>\n",
       "    </tr>\n",
       "    <tr>\n",
       "      <th>2</th>\n",
       "      <td>AOC</td>\n",
       "      <td>handling isn t force people switch what they a...</td>\n",
       "      <td>left</td>\n",
       "      <td>17</td>\n",
       "    </tr>\n",
       "    <tr>\n",
       "      <th>3</th>\n",
       "      <td>AOC</td>\n",
       "      <td>read more about here:</td>\n",
       "      <td>left</td>\n",
       "      <td>0</td>\n",
       "    </tr>\n",
       "    <tr>\n",
       "      <th>4</th>\n",
       "      <td>AOC</td>\n",
       "      <td>know that ongoing exposure from stove linked r...</td>\n",
       "      <td>left</td>\n",
       "      <td>15</td>\n",
       "    </tr>\n",
       "    <tr>\n",
       "      <th>...</th>\n",
       "      <td>...</td>\n",
       "      <td>...</td>\n",
       "      <td>...</td>\n",
       "      <td>...</td>\n",
       "    </tr>\n",
       "    <tr>\n",
       "      <th>44522</th>\n",
       "      <td>GOP</td>\n",
       "      <td>latino moving drove republican party. this eff...</td>\n",
       "      <td>right</td>\n",
       "      <td>3</td>\n",
       "    </tr>\n",
       "    <tr>\n",
       "      <th>44523</th>\n",
       "      <td>GOP</td>\n",
       "      <td>republican turnout pennsylvania already outper...</td>\n",
       "      <td>right</td>\n",
       "      <td>3</td>\n",
       "    </tr>\n",
       "    <tr>\n",
       "      <th>44524</th>\n",
       "      <td>GOP</td>\n",
       "      <td>republican win republican primary idaho conser...</td>\n",
       "      <td>right</td>\n",
       "      <td>6</td>\n",
       "    </tr>\n",
       "    <tr>\n",
       "      <th>44525</th>\n",
       "      <td>GOP</td>\n",
       "      <td>cheer winning north carolina s congressional p...</td>\n",
       "      <td>right</td>\n",
       "      <td>3</td>\n",
       "    </tr>\n",
       "    <tr>\n",
       "      <th>44526</th>\n",
       "      <td>GOP</td>\n",
       "      <td>tonight republican nc  let s take back house.</td>\n",
       "      <td>right</td>\n",
       "      <td>6</td>\n",
       "    </tr>\n",
       "  </tbody>\n",
       "</table>\n",
       "<p>44527 rows × 4 columns</p>\n",
       "</div>"
      ],
      "text/plain": [
       "      Screen Name                                               Text  party  \\\n",
       "0             AOC  thank you securing similar pedestrian investme...   left   \n",
       "1             AOC  yes keep credits/rebates gas free appliance th...   left   \n",
       "2             AOC  handling isn t force people switch what they a...   left   \n",
       "3             AOC                              read more about here:   left   \n",
       "4             AOC  know that ongoing exposure from stove linked r...   left   \n",
       "...           ...                                                ...    ...   \n",
       "44522         GOP  latino moving drove republican party. this eff...  right   \n",
       "44523         GOP  republican turnout pennsylvania already outper...  right   \n",
       "44524         GOP  republican win republican primary idaho conser...  right   \n",
       "44525         GOP  cheer winning north carolina s congressional p...  right   \n",
       "44526         GOP      tonight republican nc  let s take back house.  right   \n",
       "\n",
       "       cluster  \n",
       "0           12  \n",
       "1           11  \n",
       "2           17  \n",
       "3            0  \n",
       "4           15  \n",
       "...        ...  \n",
       "44522        3  \n",
       "44523        3  \n",
       "44524        6  \n",
       "44525        3  \n",
       "44526        6  \n",
       "\n",
       "[44527 rows x 4 columns]"
      ]
     },
     "execution_count": 12,
     "metadata": {},
     "output_type": "execute_result"
    }
   ],
   "source": [
    "frame"
   ]
  },
  {
   "cell_type": "code",
   "execution_count": 13,
   "id": "864f24e1-5edb-4ec5-b5c2-bc15c408b3b9",
   "metadata": {},
   "outputs": [],
   "source": [
    "def get_topic(val):\n",
    "    arr_test = frame['Text'].loc[frame['cluster']==val].values[0:100]\n",
    "    corpus = ';'.join(arr_test)\n",
    "    corpus = TextBlob(corpus)\n",
    "    freq = []\n",
    "    collection = set(corpus.words)\n",
    "    main=''\n",
    "    count = 0\n",
    "    for word in collection:\n",
    "        if word not in stp: \n",
    "            c = corpus.word_counts[word]\n",
    "            freq.append((word,c))\n",
    "            if c> count:\n",
    "                count = c\n",
    "                main = word\n",
    "    freq.sort(key=lambda a: a[1], reverse=True)\n",
    "    return freq"
   ]
  },
  {
   "cell_type": "code",
   "execution_count": 14,
   "id": "5831e8be-4154-4bb7-8c44-f97ad3bbe678",
   "metadata": {},
   "outputs": [],
   "source": [
    "f = open('topic_modeling.txt', 'w', encoding='utf8')\n",
    "\n",
    "for i in range(k):\n",
    "    arr = get_topic(i)\n",
    "    f.write(f' Topic # {i} = {arr[0][0]}')\n",
    "    f.write('\\n')\n",
    "    for el in arr:\n",
    "        f.write(str(el))\n",
    "        f.write('\\n')\n",
    "\n",
    "f.close()"
   ]
  },
  {
   "cell_type": "code",
   "execution_count": 15,
   "id": "b2801ac1-ae0f-467d-a221-5704edda4156",
   "metadata": {},
   "outputs": [
    {
     "data": {
      "text/html": [
       "<div>\n",
       "<style scoped>\n",
       "    .dataframe tbody tr th:only-of-type {\n",
       "        vertical-align: middle;\n",
       "    }\n",
       "\n",
       "    .dataframe tbody tr th {\n",
       "        vertical-align: top;\n",
       "    }\n",
       "\n",
       "    .dataframe thead th {\n",
       "        text-align: right;\n",
       "    }\n",
       "</style>\n",
       "<table border=\"1\" class=\"dataframe\">\n",
       "  <thead>\n",
       "    <tr style=\"text-align: right;\">\n",
       "      <th></th>\n",
       "      <th>Screen Name</th>\n",
       "      <th>Text</th>\n",
       "      <th>party</th>\n",
       "      <th>cluster</th>\n",
       "    </tr>\n",
       "  </thead>\n",
       "  <tbody>\n",
       "    <tr>\n",
       "      <th>0</th>\n",
       "      <td>AOC</td>\n",
       "      <td>thank you securing similar pedestrian investme...</td>\n",
       "      <td>left</td>\n",
       "      <td>12</td>\n",
       "    </tr>\n",
       "    <tr>\n",
       "      <th>1</th>\n",
       "      <td>AOC</td>\n",
       "      <td>yes keep credits/rebates gas free appliance th...</td>\n",
       "      <td>left</td>\n",
       "      <td>11</td>\n",
       "    </tr>\n",
       "    <tr>\n",
       "      <th>2</th>\n",
       "      <td>AOC</td>\n",
       "      <td>handling isn t force people switch what they a...</td>\n",
       "      <td>left</td>\n",
       "      <td>17</td>\n",
       "    </tr>\n",
       "    <tr>\n",
       "      <th>3</th>\n",
       "      <td>AOC</td>\n",
       "      <td>read more about here:</td>\n",
       "      <td>left</td>\n",
       "      <td>0</td>\n",
       "    </tr>\n",
       "    <tr>\n",
       "      <th>4</th>\n",
       "      <td>AOC</td>\n",
       "      <td>know that ongoing exposure from stove linked r...</td>\n",
       "      <td>left</td>\n",
       "      <td>15</td>\n",
       "    </tr>\n",
       "    <tr>\n",
       "      <th>...</th>\n",
       "      <td>...</td>\n",
       "      <td>...</td>\n",
       "      <td>...</td>\n",
       "      <td>...</td>\n",
       "    </tr>\n",
       "    <tr>\n",
       "      <th>44522</th>\n",
       "      <td>GOP</td>\n",
       "      <td>latino moving drove republican party. this eff...</td>\n",
       "      <td>right</td>\n",
       "      <td>3</td>\n",
       "    </tr>\n",
       "    <tr>\n",
       "      <th>44523</th>\n",
       "      <td>GOP</td>\n",
       "      <td>republican turnout pennsylvania already outper...</td>\n",
       "      <td>right</td>\n",
       "      <td>3</td>\n",
       "    </tr>\n",
       "    <tr>\n",
       "      <th>44524</th>\n",
       "      <td>GOP</td>\n",
       "      <td>republican win republican primary idaho conser...</td>\n",
       "      <td>right</td>\n",
       "      <td>6</td>\n",
       "    </tr>\n",
       "    <tr>\n",
       "      <th>44525</th>\n",
       "      <td>GOP</td>\n",
       "      <td>cheer winning north carolina s congressional p...</td>\n",
       "      <td>right</td>\n",
       "      <td>3</td>\n",
       "    </tr>\n",
       "    <tr>\n",
       "      <th>44526</th>\n",
       "      <td>GOP</td>\n",
       "      <td>tonight republican nc  let s take back house.</td>\n",
       "      <td>right</td>\n",
       "      <td>6</td>\n",
       "    </tr>\n",
       "  </tbody>\n",
       "</table>\n",
       "<p>44527 rows × 4 columns</p>\n",
       "</div>"
      ],
      "text/plain": [
       "      Screen Name                                               Text  party  \\\n",
       "0             AOC  thank you securing similar pedestrian investme...   left   \n",
       "1             AOC  yes keep credits/rebates gas free appliance th...   left   \n",
       "2             AOC  handling isn t force people switch what they a...   left   \n",
       "3             AOC                              read more about here:   left   \n",
       "4             AOC  know that ongoing exposure from stove linked r...   left   \n",
       "...           ...                                                ...    ...   \n",
       "44522         GOP  latino moving drove republican party. this eff...  right   \n",
       "44523         GOP  republican turnout pennsylvania already outper...  right   \n",
       "44524         GOP  republican win republican primary idaho conser...  right   \n",
       "44525         GOP  cheer winning north carolina s congressional p...  right   \n",
       "44526         GOP      tonight republican nc  let s take back house.  right   \n",
       "\n",
       "       cluster  \n",
       "0           12  \n",
       "1           11  \n",
       "2           17  \n",
       "3            0  \n",
       "4           15  \n",
       "...        ...  \n",
       "44522        3  \n",
       "44523        3  \n",
       "44524        6  \n",
       "44525        3  \n",
       "44526        6  \n",
       "\n",
       "[44527 rows x 4 columns]"
      ]
     },
     "execution_count": 15,
     "metadata": {},
     "output_type": "execute_result"
    }
   ],
   "source": [
    "frame"
   ]
  },
  {
   "cell_type": "code",
   "execution_count": 16,
   "id": "a87cd7a5-4995-4f22-bc09-6db921eed26e",
   "metadata": {},
   "outputs": [
    {
     "data": {
      "text/plain": [
       "Text(0.5, 1.0, 'Distribution of tweets over clusters')"
      ]
     },
     "execution_count": 16,
     "metadata": {},
     "output_type": "execute_result"
    },
    {
     "data": {
      "image/png": "[encoded data removed]",
      "text/plain": [
       "<Figure size 640x480 with 1 Axes>"
      ]
     },
     "metadata": {},
     "output_type": "display_data"
    }
   ],
   "source": [
    "li = frame.groupby(['cluster'])['Text'].count().values\n",
    "clusters = list(range(20))\n",
    "plt.bar(range(len(li)), li, tick_label=clusters)\n",
    "plt.title('Distribution of tweets over clusters')"
   ]
  },
  {
   "cell_type": "code",
   "execution_count": 17,
   "id": "59b10114-e29f-401f-9a65-8a91e2f79349",
   "metadata": {},
   "outputs": [
    {
     "data": {
      "text/plain": [
       "Text(0.5, 1.0, 'Distribution of tweets over clusters for left')"
      ]
     },
     "execution_count": 17,
     "metadata": {},
     "output_type": "execute_result"
    },
    {
     "data": {
      "image/png": "[encoded data removed]",
      "text/plain": [
       "<Figure size 640x480 with 1 Axes>"
      ]
     },
     "metadata": {},
     "output_type": "display_data"
    }
   ],
   "source": [
    "left_li = frame.groupby(['party', 'cluster'])['Text'].count().values[0:20]\n",
    "clusters = list(range(20))\n",
    "plt.bar(range(len(left_li)), left_li, tick_label=clusters)\n",
    "plt.title('Distribution of tweets over clusters for left')"
   ]
  },
  {
   "cell_type": "code",
   "execution_count": 18,
   "id": "551c0e55-faa8-4c4e-957f-3bd5895fa6ae",
   "metadata": {},
   "outputs": [
    {
     "data": {
      "text/plain": [
       "Text(0.5, 1.0, 'Distribution of tweets over clusters for right')"
      ]
     },
     "execution_count": 18,
     "metadata": {},
     "output_type": "execute_result"
    },
    {
     "data": {
      "image/png": "[encoded data removed]",
      "text/plain": [
       "<Figure size 640x480 with 1 Axes>"
      ]
     },
     "metadata": {},
     "output_type": "display_data"
    }
   ],
   "source": [
    "right_li = frame.groupby(['party', 'cluster'])['Text'].count().values[20:]\n",
    "clusters = list(range(20))\n",
    "plt.bar(range(len(right_li)), right_li, tick_label=clusters)\n",
    "plt.title('Distribution of tweets over clusters for right')"
   ]
  },
  {
   "cell_type": "code",
   "execution_count": 40,
   "id": "59b13763-cd70-4b1b-9f2f-ae9b8baab85d",
   "metadata": {},
   "outputs": [
    {
     "data": {
      "text/plain": [
       "array([ 767,  928, 1894, 2327,  391,  872,  170, 1083, 1273,  685,  581,\n",
       "        637, 1023,  752,  729,  350,  986,  269, 1055,  642], dtype=int64)"
      ]
     },
     "execution_count": 40,
     "metadata": {},
     "output_type": "execute_result"
    }
   ],
   "source": [
    "right_li"
   ]
  },
  {
   "cell_type": "markdown",
   "id": "091bd3ee-4355-475d-a1a1-80be520d2dd0",
   "metadata": {},
   "source": [
    "## Attempt to classify tweets\n",
    "### Distribution of tweets per cluster per party"
   ]
  },
  {
   "cell_type": "code",
   "execution_count": 41,
   "id": "d635b6fb-6964-4701-bddb-112814b3288f",
   "metadata": {},
   "outputs": [
    {
     "data": {
      "image/png": "[encoded data removed]",
      "text/plain": [
       "<Figure size 640x480 with 1 Axes>"
      ]
     },
     "metadata": {},
     "output_type": "display_data"
    }
   ],
   "source": [
    "width = .5      # the width of the bars: can also be len(x) sequence\n",
    "\n",
    "fig, ax = plt.subplots()\n",
    "\n",
    "ax.bar(clusters, right_li, width, label='Republicans', color=\"r\")\n",
    "ax.bar(clusters, left_li, width, bottom=right_li,\n",
    "       label='Democrats', color=\"b\")\n",
    "\n",
    "ax.set_ylabel('Number of tweets')\n",
    "ax.set_title('Distribution of tweets per clusters with political parties')\n",
    "ax.legend()\n",
    "\n",
    "plt.show()"
   ]
  },
  {
   "cell_type": "code",
   "execution_count": 135,
   "id": "9c760c4b-f30c-415c-9593-8384ae825707",
   "metadata": {},
   "outputs": [
    {
     "data": {
      "text/plain": [
       "[('covid', 49),\n",
       " ('vaccine', 31),\n",
       " ('pandemic', 27),\n",
       " ('people', 12),\n",
       " ('vaccinated', 11),\n",
       " ('community', 8),\n",
       " ('relief', 8),\n",
       " ('check', 8),\n",
       " ('country', 8),\n",
       " ('worker', 7),\n",
       " ('health', 7),\n",
       " ('work', 7),\n",
       " ('public', 7),\n",
       " ('leader', 6),\n",
       " ('time', 6),\n",
       " ('thing', 6),\n",
       " ('need', 6),\n",
       " ('one', 5),\n",
       " ('family', 5),\n",
       " ('help', 5),\n",
       " ('make', 5),\n",
       " ('would', 5),\n",
       " ('million', 5),\n",
       " ('done', 5),\n",
       " ('even', 5),\n",
       " ('best', 5),\n",
       " ('enough', 4),\n",
       " ('want', 4),\n",
       " ('vote', 4),\n",
       " ('also', 4)]"
      ]
     },
     "execution_count": 135,
     "metadata": {},
     "output_type": "execute_result"
    }
   ],
   "source": [
    "val = 18\n",
    "topic = get_topic(val)\n",
    "topic[0:30]"
   ]
  },
  {
   "cell_type": "code",
   "execution_count": 122,
   "id": "9c9983d9-7d05-47f5-afdd-fb59deba4ef9",
   "metadata": {},
   "outputs": [
    {
     "data": {
      "text/plain": [
       "[(1, 991.7217347706192),\n",
       " (17, 739.1517774343122),\n",
       " (15, 606.6651567944251),\n",
       " (6, 590.0114810562571),\n",
       " (0, 585.3465136054422),\n",
       " (19, 554.1591312056737),\n",
       " (9, 537.4061496099129),\n",
       " (11, 527.7790106333796),\n",
       " (12, 523.1176213379973),\n",
       " (13, 490.68884462151397),\n",
       " (5, 489.6084271703596),\n",
       " (7, 475.26772793053544),\n",
       " (4, 474.01283950617284),\n",
       " (2, 392.45438799076214),\n",
       " (18, 377.6190476190476),\n",
       " (16, 310.7244559203246),\n",
       " (14, 268.2105263157895),\n",
       " (8, 253.51493212669683),\n",
       " (3, 199.04418394950406),\n",
       " (10, 133.39879518072289)]"
      ]
     },
     "execution_count": 122,
     "metadata": {},
     "output_type": "execute_result"
    }
   ],
   "source": [
    "def rank(k):\n",
    "    dic = {}\n",
    "    for cluster in range(k):\n",
    "        left_count = int(frame.loc[frame['cluster']==cluster].loc[frame['party']=='left'].count()[0])\n",
    "        right_count = int(frame.loc[frame['cluster']==cluster].loc[frame['party']=='right'].count()[0])\n",
    "        score = left_count*right_count/(left_count+right_count)\n",
    "        dic[cluster] = score\n",
    "    sorted_dict = sorted([(value, key) for (key, value) in dic.items()], reverse=True)\n",
    "    sorted_dict = [(v, k) for (k, v) in sorted_dict]\n",
    "    return sorted_dict\n",
    "\n",
    "rank(k)"
   ]
  },
  {
   "cell_type": "code",
   "execution_count": 136,
   "id": "f5e57f28-64b6-4668-84b1-741304ea8373",
   "metadata": {},
   "outputs": [],
   "source": [
    "topic = 18"
   ]
  },
  {
   "cell_type": "code",
   "execution_count": 142,
   "id": "c62f66a1-f8f7-4bdb-a971-4008b48fdfe2",
   "metadata": {},
   "outputs": [],
   "source": [
    "sub_frame = frame.loc[frame['cluster']==18]"
   ]
  },
  {
   "cell_type": "code",
   "execution_count": 143,
   "id": "db6833bb-6a57-4d04-af4f-defbf6015d82",
   "metadata": {},
   "outputs": [
    {
     "name": "stderr",
     "output_type": "stream",
     "text": [
      "<ipython-input-143-a0f3da44d099>:1: SettingWithCopyWarning: \n",
      "A value is trying to be set on a copy of a slice from a DataFrame.\n",
      "Try using .loc[row_indexer,col_indexer] = value instead\n",
      "\n",
      "See the caveats in the documentation: https://pandas.pydata.org/pandas-docs/stable/user_guide/indexing.html#returning-a-view-versus-a-copy\n",
      "  sub_frame['Text'] = sub_frame['Text'].apply(lambda x: clean_stage3(x))\n"
     ]
    }
   ],
   "source": [
    "sub_frame['Text'] = sub_frame['Text'].apply(lambda x: clean_stage3(x))"
   ]
  },
  {
   "cell_type": "code",
   "execution_count": 147,
   "id": "8076d19c-5069-4316-a2eb-d91af772573c",
   "metadata": {},
   "outputs": [],
   "source": [
    "sub_frame = sub_frame.drop_duplicates()"
   ]
  },
  {
   "cell_type": "code",
   "execution_count": 235,
   "id": "c8f8f81a-aa34-43d2-96fc-2e089482600c",
   "metadata": {},
   "outputs": [
    {
     "data": {
      "text/plain": [
       "array(['politician insisting politicize mass shooting enabled horrifying policy they take💰to uphold really just telling accept them. acceptable. they politicizing opposing common sense widely agreed upon public.',\n",
       "       'change decision conditions. just with idea sending million free home covid test initially laughed happening. again. million will relief. time #cancelstudentdebt.',\n",
       "       'thank birthday wish advice been pandemic almost whole time', ...,\n",
       "       \"need have very careful thorough vetting ensure we're keeping american safe.\",\n",
       "       'nine state recovered since coronavirus pandemic began republican governor #redstaterecovery',\n",
       "       'state recovered since coronavirus pandemic began republican governor'],\n",
       "      dtype=object)"
      ]
     },
     "execution_count": 235,
     "metadata": {},
     "output_type": "execute_result"
    }
   ],
   "source": [
    "sub_frame['Text'].values"
   ]
  },
  {
   "cell_type": "code",
   "execution_count": 182,
   "id": "90ea7bf4-3a76-423f-9f7c-c751493840bb",
   "metadata": {},
   "outputs": [
    {
     "data": {
      "text/plain": [
       "1455"
      ]
     },
     "execution_count": 182,
     "metadata": {},
     "output_type": "execute_result"
    }
   ],
   "source": [
    "#sub_text = sub_frame['Text'].values\n",
    "#sub_labels = sub_frame['party'].values\n",
    "#sub_vectors = [v for v,t in pair if t in sub_text]\n",
    "#train_list = [(sub_vectors[i], sub_labels[i]) for i in range(len(sub_labels))]\n",
    "#train_list[0:2]\n",
    "\n",
    "sub_text = sub_frame['Text'].values\n",
    "sub_pair = [(vectors[i], text[i]) for i in range(len(sub_text))]\n",
    "sub_vectors = [v for v,t in sub_pair if t in sub_text]\n",
    "sub_labels = sub_frame['party'].values\n",
    "train_list = [(sub_vectors[i], sub_labels[i]) for i in range(len(sub_labels))]\n",
    "len(sub_vectors)"
   ]
  },
  {
   "cell_type": "code",
   "execution_count": 256,
   "id": "28c3c42a-5bf5-43aa-aba2-b80d878f681a",
   "metadata": {},
   "outputs": [],
   "source": [
    "labels = frame['party'].values"
   ]
  },
  {
   "cell_type": "code",
   "execution_count": 257,
   "id": "6180842f-0b46-45f3-9970-09e7f24ef1f9",
   "metadata": {},
   "outputs": [
    {
     "data": {
      "text/plain": [
       "SVC()"
      ]
     },
     "execution_count": 257,
     "metadata": {},
     "output_type": "execute_result"
    }
   ],
   "source": [
    "clf = svm.SVC()\n",
    "clf.fit(vectors,labels)"
   ]
  },
  {
   "cell_type": "code",
   "execution_count": 258,
   "id": "41853486-cafc-4c89-8152-a8e8d080d4b8",
   "metadata": {},
   "outputs": [
    {
     "data": {
      "text/plain": [
       "array([[0.95231608, 0.04768392],\n",
       "       [0.94590846, 0.05409154]])"
      ]
     },
     "execution_count": 258,
     "metadata": {},
     "output_type": "execute_result"
    }
   ],
   "source": [
    "# Testing it on the training data\n",
    "prediction = clf.predict(sub_vectors)\n",
    "confusion_matrix(sub_labels, prediction, normalize='true')"
   ]
  },
  {
   "cell_type": "code",
   "execution_count": 260,
   "id": "850962fe-d084-4e37-bf18-43baf87a5943",
   "metadata": {},
   "outputs": [
    {
     "data": {
      "text/plain": [
       "0.5072164948453608"
      ]
     },
     "execution_count": 260,
     "metadata": {},
     "output_type": "execute_result"
    }
   ],
   "source": [
    "accuracy_score(sub_labels, prediction, normalize='true')"
   ]
  },
  {
   "cell_type": "code",
   "execution_count": null,
   "id": "46487d58-e0f6-4ec4-ab87-5ff29d85c5a1",
   "metadata": {},
   "outputs": [],
   "source": []
  }
 ],
 "metadata": {
  "kernelspec": {
   "display_name": "base",
   "language": "python",
   "name": "python3"
  },
  "language_info": {
   "codemirror_mode": {
    "name": "ipython",
    "version": 3
   },
   "file_extension": ".py",
   "mimetype": "text/x-python",
   "name": "python",
   "nbconvert_exporter": "python",
   "pygments_lexer": "ipython3",
   "version": "3.9.16"
  },
  "vscode": {
   "interpreter": {
    "hash": "7416c73a18b38e0ab51013aea37dd7f7b0f7d74a487229ce76511aa32a1dcd87"
   }
  }
 },
 "nbformat": 4,
 "nbformat_minor": 5
}
